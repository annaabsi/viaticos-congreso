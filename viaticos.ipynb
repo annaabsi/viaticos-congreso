{
 "cells": [
  {
   "cell_type": "code",
   "execution_count": null,
   "metadata": {},
   "outputs": [],
   "source": [
    "# pending check why it fails\n",
    "# import pandas as pd\n",
    "# import requests\n",
    "\n",
    "# anio = ['2021', '2022', '2023']\n",
    "# mes = ['01', '02', '03', '04', '05', '06', '07', '08', '09', '10', '11', '12']\n",
    "# tipo_viaje = ['1', '2']\n",
    "# ruta_viaje = ['1', '2']\n",
    "# url = 'https://www.transparencia.gob.pe/contrataciones/pte_transparencia_viaticos.aspx'\n",
    "\n",
    "# for a in anio:\n",
    "#     for m in mes:\n",
    "#         for t in tipo_viaje:\n",
    "#             for r in ruta_viaje:\n",
    "#                 body = {\n",
    "#                 'ch_tipo_busqueda':'1',\n",
    "#                 'id_entidad':'16',\n",
    "#                 'id_tema':'34',\n",
    "#                 'Ver':'D',\n",
    "#                 'in_anno_consulta':anio,\n",
    "#                 'ch_mes_consulta':mes,\n",
    "#                 'cbo_tipo_viaje':tipo_viaje,\n",
    "#                 'cbo_ruta_viaje':ruta_viaje,\n",
    "#                 'cmb_buscar':'Enviar'\n",
    "#                 }\n",
    "#                 try:\n",
    "#                     req = requests.post(url, data=body)\n",
    "#                     df = pd.read_html(req.content)\n",
    "#                     print(df)\n",
    "#                     df = df[2]\n",
    "#                     df.to_csv(f'viaticos_{mes}_{anio}_r{ruta_viaje}_t{tipo_viaje}.csv')\n",
    "#                 except:\n",
    "#                     print(a, m, t, r)"
   ]
  },
  {
   "cell_type": "code",
   "execution_count": null,
   "metadata": {},
   "outputs": [],
   "source": [
    "import pandas as pd\n",
    "import requests\n",
    "\n",
    "mes = '12'\n",
    "anio = '2022'\n",
    "# r 1-aereo 2-terrestre\n",
    "ruta_viaje = '2'\n",
    "# t 1-nacional 2-internacional\n",
    "tipo_viaje = '1'\n",
    "url = 'https://www.transparencia.gob.pe/contrataciones/pte_transparencia_viaticos.aspx'\n",
    "\n",
    "body = {\n",
    "'ch_tipo_busqueda':'1',\n",
    "'id_entidad':'16',\n",
    "'id_tema':'34',\n",
    "'Ver':'D',\n",
    "'in_anno_consulta':anio,\n",
    "'ch_mes_consulta':mes,\n",
    "'cbo_tipo_viaje':tipo_viaje,\n",
    "'cbo_ruta_viaje':ruta_viaje,\n",
    "'cmb_buscar':'Enviar'\n",
    "}\n",
    "\n",
    "req = requests.post(url, data=body)\n",
    "df = pd.read_html(req.content)\n",
    "df = df[1]\n",
    "df.to_csv(f'viaticos_{mes}_{anio}_r{ruta_viaje}_t{tipo_viaje}.csv', index=False)\n",
    "df"
   ]
  },
  {
   "cell_type": "code",
   "execution_count": 94,
   "metadata": {},
   "outputs": [],
   "source": [
    "import os\n",
    "\n",
    "filepaths = [f for f in os.listdir(\".\") if f.endswith('.csv')]\n",
    "\n",
    "def f(i):\n",
    "    return pd.read_csv(i, header=None)\n",
    "\n",
    "df_total = pd.concat(map(f, filepaths))\n",
    "df_total.to_csv('total.csv', index=False)"
   ]
  }
 ],
 "metadata": {
  "kernelspec": {
   "display_name": "Python 3",
   "language": "python",
   "name": "python3"
  },
  "language_info": {
   "codemirror_mode": {
    "name": "ipython",
    "version": 3
   },
   "file_extension": ".py",
   "mimetype": "text/x-python",
   "name": "python",
   "nbconvert_exporter": "python",
   "pygments_lexer": "ipython3",
   "version": "3.10.9"
  },
  "orig_nbformat": 4,
  "vscode": {
   "interpreter": {
    "hash": "b0fa6594d8f4cbf19f97940f81e996739fb7646882a419484c72d19e05852a7e"
   }
  }
 },
 "nbformat": 4,
 "nbformat_minor": 2
}
